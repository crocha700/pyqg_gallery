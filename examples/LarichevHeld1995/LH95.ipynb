{
 "cells": [
  {
   "cell_type": "markdown",
   "metadata": {},
   "source": [
    "# Reproducing Larichev & Held JPO 1995\n",
    " Eddy Amplitudes and Fluxes in a Homogeneous Model of Fully Developed Baroclinic Instability. J. Phys. Oceanogr., 25, 2285–2297. doi: [http://dx.doi.org/10.1175](http://journals.ametsoc.org/doi/pdf/10.1175/1520-0485%281995%29025%3C2285%3AEAAFIA%3E2.0.CO%3B2)."
   ]
  },
  {
   "cell_type": "code",
   "execution_count": 3,
   "metadata": {
    "collapsed": false
   },
   "outputs": [
    {
     "name": "stderr",
     "output_type": "stream",
     "text": [
      "Vendor:  Continuum Analytics, Inc.\n",
      "Package: mkl\n",
      "Message: trial mode expires in 21 days\n",
      "Vendor:  Continuum Analytics, Inc.\n",
      "Package: mkl\n",
      "Message: trial mode expires in 21 days\n",
      "Vendor:  Continuum Analytics, Inc.\n",
      "Package: mkl\n",
      "Message: trial mode expires in 21 days\n"
     ]
    }
   ],
   "source": [
    "import numpy as np\n",
    "from numpy import pi\n",
    "import matplotlib.pyplot as plt\n",
    "from matplotlib.colors import LogNorm\n",
    "%matplotlib inline\n",
    "\n",
    "import pyqg\n",
    "from pyqg import diagnostic_tools"
   ]
  },
  {
   "cell_type": "code",
   "execution_count": 4,
   "metadata": {
    "collapsed": false
   },
   "outputs": [],
   "source": [
    "Nx = 256          # number of grid points\n",
    "Nz = 2            # number of layer\n",
    "L =  2*pi         # length scale of box    \n",
    "Ld = 3./50.       # deformation scale      \n",
    "kd = 1./Ld        # deformation wavenumber \n",
    "H1 = 0.5          # upper layer thickness  \n",
    "H2 = 0.5          # lower layer thickness \n",
    "delta = H1/H2\n",
    "\n",
    "U1 = .005          # upper layer zonal velocity \n",
    "U2 = -.005         # lower layer zonal velicity \n",
    "Us = U1-U2         # vertical shear             \n",
    "rek = .04          # linear bottom drag coeff.  \n",
    "\n",
    "Ti = Ld/(abs(Us))  # estimate of most unstable e-folding time scale \n",
    "\n",
    "dt = Ti/500.      # time-step "
   ]
  },
  {
   "cell_type": "code",
   "execution_count": 5,
   "metadata": {
    "collapsed": true
   },
   "outputs": [],
   "source": [
    "def init_condition(model,sig=1.e-7):\n",
    "    \"\"\" White noise spectrum with amplitude sig \"\"\"\n",
    "    return sig*np.random.randn(model.nz,model.nx,model.ny)"
   ]
  },
  {
   "cell_type": "code",
   "execution_count": 6,
   "metadata": {
    "collapsed": true
   },
   "outputs": [],
   "source": [
    "def psi_tau_h(ph):\n",
    "    \"\"\" calculates barotropic and\n",
    "            baroclinic streamfunction \"\"\"\n",
    "    return (ph[0]+ph[1])/2., (ph[0]-ph[1])/2.\n",
    "\n",
    "def calc_tfh(pph,pth,U,k):\n",
    "    \"\"\" calculates thickness flux,\n",
    "        or production term \"\"\"\n",
    "    return  -U*(m.rd**-2)*(1j*k*pph.conj()*pth).real"
   ]
  },
  {
   "cell_type": "code",
   "execution_count": 7,
   "metadata": {
    "collapsed": false
   },
   "outputs": [
    {
     "name": "stderr",
     "output_type": "stream",
     "text": [
      "INFO:  Logger initialized\n",
      "INFO:  Kernel initialized\n"
     ]
    }
   ],
   "source": [
    "m = pyqg.LayeredModel(nx=Nx, nz=Nz, U = [U1,U2], V=[0.,0.],\n",
    "                              L=L,f=1.,beta=0., rd=Ld, H = [H1,H2],rek=rek,\n",
    "                              dt=0.001,tmax=500.,twrite=5000, \n",
    "                              tavestart=800.,taveint=1., ntd=4, delta=delta,\n",
    "                              )\n",
    "\n",
    "m.set_q(init_condition(m, sig=1.e-1))"
   ]
  },
  {
   "cell_type": "code",
   "execution_count": null,
   "metadata": {
    "collapsed": false
   },
   "outputs": [
    {
     "name": "stderr",
     "output_type": "stream",
     "text": [
      "INFO: Step: 5000, Time: 5.00e+00, KE: 1.16e-06, CFL: 0.000\n"
     ]
    }
   ],
   "source": [
    "ke = []\n",
    "t  = []\n",
    "\n",
    "for i in m.run_with_snapshots(tsnapstart=0, tsnapint=1.):\n",
    "\n",
    "    ke.append(m._calc_ke())\n",
    "    t.append(m.t)\n",
    "\n",
    "    pph, pth = psi_tau_h(m.ph)\n",
    "\n",
    "    # calculates the production term\n",
    "    prod = calc_tfh(pph,pth,m.Ubg[0],m.k)\n",
    "\n",
    "    ki, prod = diagnostic_tools.calc_ispec(m,prod)\n",
    "\n",
    "    try:\n",
    "        prod_k = np.vstack([prod_k,prod])\n",
    "    except:\n",
    "        prod_k = prod\n",
    "    "
   ]
  },
  {
   "cell_type": "markdown",
   "metadata": {},
   "source": [
    "# Snapshots"
   ]
  },
  {
   "cell_type": "code",
   "execution_count": null,
   "metadata": {
    "collapsed": false
   },
   "outputs": [],
   "source": [
    "qph, qth = psi_tau_h(m.qh)\n",
    "\n",
    "plt.figure(figsize=(14,5))\n",
    "\n",
    "plt.subplot(121)\n",
    "plt.pcolormesh(m.x,m.y,np.fft.irfft2(qph))\n",
    "plt.colorbar()\n",
    "plt.clim(-25,25)\n",
    "plt.xlim(0,2*pi)\n",
    "plt.ylim(0,2*pi)\n",
    "plt.title('Barotropic PV')\n",
    "\n",
    "plt.subplot(122)\n",
    "plt.pcolormesh(m.x,m.y,np.fft.irfft2(qth)+(m.Qy[0]-m.Qy[1])*m.y)\n",
    "plt.colorbar()\n",
    "plt.clim(0,180)\n",
    "plt.xlim(0,2*pi)\n",
    "plt.ylim(0,2*pi)\n",
    "plt.title('Baroclinic PV')"
   ]
  },
  {
   "cell_type": "code",
   "execution_count": 1,
   "metadata": {
    "collapsed": false
   },
   "outputs": [
    {
     "ename": "NameError",
     "evalue": "name 'np' is not defined",
     "output_type": "error",
     "traceback": [
      "\u001b[0;31m---------------------------------------------------------------------------\u001b[0m",
      "\u001b[0;31mNameError\u001b[0m                                 Traceback (most recent call last)",
      "\u001b[0;32m<ipython-input-1-dc11a1088c09>\u001b[0m in \u001b[0;36m<module>\u001b[0;34m()\u001b[0m\n\u001b[0;32m----> 1\u001b[0;31m \u001b[0mki\u001b[0m\u001b[0;34m,\u001b[0m \u001b[0mti\u001b[0m \u001b[0;34m=\u001b[0m \u001b[0mnp\u001b[0m\u001b[0;34m.\u001b[0m\u001b[0mmeshgrid\u001b[0m\u001b[0;34m(\u001b[0m\u001b[0mki\u001b[0m\u001b[0;34m,\u001b[0m\u001b[0mt\u001b[0m\u001b[0;34m)\u001b[0m\u001b[0;34m\u001b[0m\u001b[0m\n\u001b[0m",
      "\u001b[0;31mNameError\u001b[0m: name 'np' is not defined"
     ]
    }
   ],
   "source": [
    "ki, ti = np.meshgrid(ki,t)"
   ]
  },
  {
   "cell_type": "markdown",
   "metadata": {},
   "source": [
    "#  The spectral structure of the production as a function of time during the spinup stage: LH95 figure 1."
   ]
  },
  {
   "cell_type": "code",
   "execution_count": 2,
   "metadata": {
    "collapsed": false
   },
   "outputs": [
    {
     "ename": "NameError",
     "evalue": "name 'plt' is not defined",
     "output_type": "error",
     "traceback": [
      "\u001b[0;31m---------------------------------------------------------------------------\u001b[0m",
      "\u001b[0;31mNameError\u001b[0m                                 Traceback (most recent call last)",
      "\u001b[0;32m<ipython-input-2-a61016882a38>\u001b[0m in \u001b[0;36m<module>\u001b[0;34m()\u001b[0m\n\u001b[0;32m----> 1\u001b[0;31m \u001b[0mplt\u001b[0m\u001b[0;34m.\u001b[0m\u001b[0mfigure\u001b[0m\u001b[0;34m(\u001b[0m\u001b[0mfigsize\u001b[0m\u001b[0;34m=\u001b[0m\u001b[0;34m(\u001b[0m\u001b[0;36m13\u001b[0m\u001b[0;34m,\u001b[0m\u001b[0;36m9\u001b[0m\u001b[0;34m)\u001b[0m\u001b[0;34m)\u001b[0m\u001b[0;34m\u001b[0m\u001b[0m\n\u001b[0m\u001b[1;32m      2\u001b[0m \u001b[0mplt\u001b[0m\u001b[0;34m.\u001b[0m\u001b[0mpcolormesh\u001b[0m\u001b[0;34m(\u001b[0m\u001b[0mki\u001b[0m\u001b[0;34m,\u001b[0m\u001b[0mti\u001b[0m\u001b[0;34m,\u001b[0m\u001b[0mprod_k\u001b[0m\u001b[0;34m/\u001b[0m\u001b[0mm\u001b[0m\u001b[0;34m.\u001b[0m\u001b[0mM\u001b[0m\u001b[0;34m**\u001b[0m\u001b[0;36m2\u001b[0m\u001b[0;34m,\u001b[0m \u001b[0mnorm\u001b[0m \u001b[0;34m=\u001b[0m \u001b[0mLogNorm\u001b[0m\u001b[0;34m(\u001b[0m\u001b[0;34m)\u001b[0m\u001b[0;34m)\u001b[0m\u001b[0;34m\u001b[0m\u001b[0m\n\u001b[1;32m      3\u001b[0m \u001b[0mplt\u001b[0m\u001b[0;34m.\u001b[0m\u001b[0mxscale\u001b[0m\u001b[0;34m(\u001b[0m\u001b[0;34m'log'\u001b[0m\u001b[0;34m)\u001b[0m\u001b[0;34m\u001b[0m\u001b[0m\n\u001b[1;32m      4\u001b[0m \u001b[0mplt\u001b[0m\u001b[0;34m.\u001b[0m\u001b[0mxlim\u001b[0m\u001b[0;34m(\u001b[0m\u001b[0;36m1.\u001b[0m\u001b[0;34m,\u001b[0m\u001b[0;36m1e2\u001b[0m\u001b[0;34m)\u001b[0m\u001b[0;34m\u001b[0m\u001b[0m\n\u001b[1;32m      5\u001b[0m \u001b[0mplt\u001b[0m\u001b[0;34m.\u001b[0m\u001b[0mylim\u001b[0m\u001b[0;34m(\u001b[0m\u001b[0;36m1\u001b[0m\u001b[0;34m,\u001b[0m\u001b[0;36m300\u001b[0m\u001b[0;34m)\u001b[0m\u001b[0;34m\u001b[0m\u001b[0m\n",
      "\u001b[0;31mNameError\u001b[0m: name 'plt' is not defined"
     ]
    }
   ],
   "source": [
    "plt.figure(figsize=(13,9))\n",
    "plt.pcolormesh(ki,ti,prod_k/m.M**2, norm = LogNorm())\n",
    "plt.xscale('log')\n",
    "plt.xlim(1.,1e2)\n",
    "plt.ylim(1,300)\n",
    "plt.clim(1.e-7,1.e-3)\n",
    "plt.xlabel('Wavenumber',fontsize=20.)\n",
    "plt.xticks([1.,10.,50.,100.])\n",
    "plt.ylabel('time',fontsize=20.)\n",
    "plt.colorbar(label=r'Spectral density of APE production rate')"
   ]
  },
  {
   "cell_type": "code",
   "execution_count": null,
   "metadata": {
    "collapsed": true
   },
   "outputs": [],
   "source": []
  }
 ],
 "metadata": {
  "kernelspec": {
   "display_name": "Python 2",
   "language": "python",
   "name": "python2"
  },
  "language_info": {
   "codemirror_mode": {
    "name": "ipython",
    "version": 2
   },
   "file_extension": ".py",
   "mimetype": "text/x-python",
   "name": "python",
   "nbconvert_exporter": "python",
   "pygments_lexer": "ipython2",
   "version": "2.7.10"
  }
 },
 "nbformat": 4,
 "nbformat_minor": 0
}
